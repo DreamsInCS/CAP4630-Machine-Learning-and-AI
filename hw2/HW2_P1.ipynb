{
  "nbformat": 4,
  "nbformat_minor": 0,
  "metadata": {
    "colab": {
      "name": "HW2_P1.ipynb",
      "provenance": [],
      "collapsed_sections": []
    },
    "kernelspec": {
      "name": "python3",
      "display_name": "Python 3"
    }
  },
  "cells": [
    {
      "cell_type": "code",
      "metadata": {
        "id": "rDgG4AUcIs98",
        "colab_type": "code",
        "colab": {}
      },
      "source": [
        "# load mnist digit dataset\n",
        "\n",
        "import numpy as np\n",
        "import tensorflow as tf\n",
        "from tensorflow import keras\n",
        "from keras.datasets import mnist\n",
        "\n",
        "from keras.layers import (Conv1D, MaxPool1D, Dropout, Flatten, Dense,\n",
        "                          Input, concatenate)\n",
        "from keras.models import Model, Sequential\n",
        "\n",
        "(train_images, train_labels), (test_images, test_labels) = mnist.load_data()"
      ],
      "execution_count": 0,
      "outputs": []
    },
    {
      "cell_type": "code",
      "metadata": {
        "id": "lJ2JGafCIvjk",
        "colab_type": "code",
        "colab": {}
      },
      "source": [
        "train_images = train_images_original.reshape((60000, 28 * 28))\n",
        "train_images = train_images.astype('float32') / 255.0\n",
        "\n",
        "test_images = test_images_original.reshape((60000, 28 * 28))\n",
        "test_images = test_images.astype('float32') / 255.0"
      ],
      "execution_count": 0,
      "outputs": []
    },
    {
      "cell_type": "code",
      "metadata": {
        "id": "KZYqivisD3S3",
        "colab_type": "code",
        "colab": {}
      },
      "source": [
        "for i in range (0, 9):\n",
        "  test_images_original[i].flatten()\n",
        "  \n",
        "  # if i == 8:\n",
        "  #   train_images_original[0].concatenate()\n",
        "\n",
        "# incomplete"
      ],
      "execution_count": 0,
      "outputs": []
    }
  ]
}